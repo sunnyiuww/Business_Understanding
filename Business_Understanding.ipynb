{
  "nbformat": 4,
  "nbformat_minor": 0,
  "metadata": {
    "colab": {
      "provenance": [],
      "authorship_tag": "ABX9TyOjbVZxGoZhQ2Qn2k8tJrbd",
      "include_colab_link": true
    },
    "kernelspec": {
      "name": "python3",
      "display_name": "Python 3"
    },
    "language_info": {
      "name": "python"
    }
  },
  "cells": [
    {
      "cell_type": "markdown",
      "metadata": {
        "id": "view-in-github",
        "colab_type": "text"
      },
      "source": [
        "<a href=\"https://colab.research.google.com/github/sunnyiuww/CheckpointDataMining1/blob/main/Business_Understanding.ipynb\" target=\"_parent\"><img src=\"https://colab.research.google.com/assets/colab-badge.svg\" alt=\"Open In Colab\"/></a>"
      ]
    },
    {
      "cell_type": "markdown",
      "source": [
        "#Analyzing Student Graduation Patterns Based on Influential Factors"
      ],
      "metadata": {
        "id": "BIftlw1_PPqu"
      }
    },
    {
      "cell_type": "markdown",
      "source": [
        "##Business Understanding"
      ],
      "metadata": {
        "id": "XATuboeqPZ9y"
      }
    },
    {
      "cell_type": "markdown",
      "source": [
        "Business Objective\n",
        "\n",
        "Tujuan bisnis dari dataset ini adalah memahami faktor-faktor yang mempengaruhi ketepatan mahasiswa dalam menyelesaikan pendidikan mereka dan kemudian mengembangkan strategi intervensi yang sesuai.\n",
        "\n"
      ],
      "metadata": {
        "id": "abx8-9zAPrRU"
      }
    },
    {
      "cell_type": "markdown",
      "source": [
        "Assess Situation\n",
        "\n",
        "Situasi bisnis yang mendasari analisis dataset ini adalah :\n",
        "\n",
        "\n",
        "\n",
        "*   Institusi Pendidikan yang mulai memperhatikan tingkat kelulusan dan retensi mahasiswa karena masalah penurunan angka ketepatan kelulusan mahasiswa.\n",
        "*   Terjadinya peningkatan persaingan antar institusi pendidikan sehingga mereka mulai memperhatikan tingkat ketepatan kelulusan mahasiswa untuk menjaga reputasi dan daya tarik institusi.\n",
        "\n",
        "\n",
        "*   Institusi pendidikan yang sedang dalam upaya untuk memenuhi standar penjaminan mutu pendidikan yang dimana tingkat kelulusan yang tinggi merupakan indikator kualitas program pendidikan.\n",
        "\n",
        "\n",
        "\n",
        "\n"
      ],
      "metadata": {
        "id": "zHvHPIYMP-NO"
      }
    },
    {
      "cell_type": "markdown",
      "source": [
        "Data Mining Goals\n",
        "\n",
        "Tujuan dari  Data Mining Dataset ini adalah :\n",
        "\n",
        "\n",
        "*   Mengidentifikasi faktor-faktor yang memiliki pengaruh signifikan terhadap ketepatan kelulusan mahasiswa.\n",
        "*   Membangun model prediktif yang dapat memperkirakan peluang ketepatan kelulusan mahasiswa berdasarkan faktor-faktor yang telah diidentifikasi.\n",
        "\n",
        "\n"
      ],
      "metadata": {
        "id": "xPdBiR4slPAn"
      }
    },
    {
      "cell_type": "markdown",
      "source": [
        "Poject Plan\n",
        "\n",
        "Rencana proyek untuk menganalisis dataset ini adalah dengan mengidentifikasi dan mengumpulkan dataset yang mencakup informasi tentang mahasiswa, termasuk data akademik (Indeks Prestasi Semester (IPS), Indeks Prestasi Kumulatif (IPK)), data demografis (umur, gender),dan faktor-faktor lain yang berpotensi mempengaruhi ketepatan kelulusan seperti status mahasiswa, status nikah, dan lain-lain. Kemudian memahami karakteristik dataset, mengeksplorasi hubungan antara variabel dan mengidentifikasi pola yang menarik sehingga akan dapat membantu dalam pemahaman awal tentang faktor-faktor yang mempengaruhi ketepatan kelulusan. Langkah selanjutnya adalah membangun model prediktif menggunakan supervised learning, seperti logistic regression atau decision tree. Setelah itu dilakukan implementasi strategi intervensi dan terakhir melakukan pemeliharaan dan evaluasi lanjutan untuk dapat terus meningkatan tingkat ketepatan kelulusuan mahasiswa."
      ],
      "metadata": {
        "id": "YNK4IKJLnI8T"
      }
    }
  ]
}